{
 "cells": [
  {
   "cell_type": "code",
   "execution_count": 1,
   "id": "51ae541f",
   "metadata": {},
   "outputs": [
    {
     "name": "stderr",
     "output_type": "stream",
     "text": [
      "Using backend: pytorch\n"
     ]
    }
   ],
   "source": [
    "import os\n",
    "import sys\n",
    "from pathlib import Path\n",
    "import logging\n",
    "\n",
    "import numpy as np\n",
    "import pandas as pd\n",
    "from matplotlib import pyplot as plt\n",
    "import seaborn as sns\n",
    "\n",
    "import scanpy as sc\n",
    "\n",
    "ROOT = '../'\n",
    "sys.path.append(ROOT)\n",
    "import came\n",
    "from came import pipeline, pp, pl\n"
   ]
  },
  {
   "cell_type": "code",
   "execution_count": 2,
   "id": "1f1de270",
   "metadata": {},
   "outputs": [],
   "source": [
    "def rotate_xticklabels(ax, angle=45, **kwargs):\n",
    "    ax.set_xticklabels(ax.get_xticklabels(), rotation=angle,\n",
    "                       **kwargs)"
   ]
  },
  {
   "cell_type": "code",
   "execution_count": 3,
   "id": "dfe506fe",
   "metadata": {},
   "outputs": [],
   "source": [
    "def grid_bars_display_probas(\n",
    "        df,\n",
    "        labels,\n",
    "        classes=None,\n",
    "        figsize=(6, 5),\n",
    "        sharey=True,\n",
    "        **kwargs\n",
    "):\n",
    "    \"\"\" violin plots of the distributions \"\"\"\n",
    "    if classes is None:\n",
    "        classes = sorted(set(labels))\n",
    "    classes = [\n",
    "        c for c in df.columns if c in classes] + [\n",
    "        c for c in classes if c not in df.columns]\n",
    "    labels = np.asarray(labels)\n",
    "        \n",
    "    fig, axs = plt.subplots(\n",
    "        len(classes), 2, figsize=figsize,\n",
    "        sharex=True, sharey=sharey,\n",
    "        gridspec_kw={'hspace': 0.0, 'wspace': 0.}\n",
    "    )\n",
    "    for i, cl in enumerate(classes):\n",
    "        df_sub = df[labels == cl]\n",
    "#         y_mid = 0.4  # (df_sub.max() + df_sub.min()) / 2\n",
    "        sns.barplot(data=df_sub, ax=axs[i, 1], **kwargs)\n",
    "    \n",
    "        ymin, ymax = 0.25, 1.05\n",
    "        axs[i, 1].set_ylim(ymin, ymax)\n",
    "        axs[i, 1].set_yticks([])\n",
    "        y_mid = (ymax + ymin) / 2 - 0.2\n",
    "        axs[i, 0].text(df.shape[1] - 1, y_mid, cl, ha='right')\n",
    "        axs[i, 0].set_axis_off()\n",
    "    rotate_xticklabels(axs[-1, 1], ha='right')\n",
    "    return fig\n",
    "\n",
    "# fig = grid_bars_display_probas(\n",
    "#     df_probas, y_true, classes=None, \n",
    "#     figsize=(6, 6))\n",
    "\n",
    "def grid_display_probas(\n",
    "        df,\n",
    "        labels,\n",
    "        classes=None,\n",
    "        figsize=(6, 5),\n",
    "        sharey=True,\n",
    "):\n",
    "    \"\"\" violin plots of the distributions \"\"\"\n",
    "    if classes is None:\n",
    "        classes = sorted(set(labels))\n",
    "    classes = [\n",
    "        c for c in df.columns if c in classes] + [\n",
    "        c for c in classes if c not in df.columns]\n",
    "    labels = np.asarray(labels)\n",
    "    fig, axs = plt.subplots(\n",
    "        len(classes), 2, figsize=figsize,\n",
    "        sharex=True, sharey=sharey,\n",
    "        gridspec_kw={'hspace': 0.0, 'wspace': 0.}\n",
    "    )\n",
    "    for i, cl in enumerate(classes):\n",
    "        df_sub = df[labels == cl]\n",
    "        y_mid = 0.4  # (df_sub.max() + df_sub.min()) / 2\n",
    "        sns.violinplot(data=df_sub, ax=axs[i, 1], \n",
    "                       scale='width',\n",
    "                       linewidth=.01, vmin=0)\n",
    "#         sns.barplot(data=df, ax=axs[i, 1])\n",
    "        axs[i, 1].set_ylim(-0.1, 1.1)\n",
    "        axs[i, 0].text(df.shape[1] - 1, y_mid, cl, ha='right')\n",
    "        axs[i, 0].set_axis_off()\n",
    "    rotate_xticklabels(axs[-1, 1], ha='right')\n",
    "    return fig\n",
    "\n",
    "\n",
    "def grid_bars_display_probas_transposed(\n",
    "        df,\n",
    "        labels,\n",
    "        classes=None,\n",
    "        figsize=(5, 6),\n",
    "        sharey=True,\n",
    "        **kwargs\n",
    "):\n",
    "    \"\"\" bar plots of the distributions \"\"\"\n",
    "    if classes is None:\n",
    "        classes = sorted(set(labels))\n",
    "    classes = [\n",
    "        c for c in df.columns if c in classes] + [\n",
    "        c for c in classes if c not in df.columns]\n",
    "    labels = np.asarray(labels)\n",
    "    n_cl = len(classes)\n",
    "    fig, axs = plt.subplots(\n",
    "        2, len(classes), figsize=figsize,\n",
    "        sharex=True, sharey=sharey,\n",
    "        gridspec_kw={'hspace': 0.0, 'wspace': 0.}\n",
    "    )\n",
    "    for i, cl in enumerate(classes):\n",
    "        df_sub = df[labels == cl]\n",
    "        sns.barplot(data=df_sub, ax=axs[0, i], orient='h', **kwargs)\n",
    "    \n",
    "        xmin, xmax = 0.25, 1.05\n",
    "        axs[0, i].set_xlim(xmin, xmax)\n",
    "        axs[0, i].set_xticks([])\n",
    "        x_mid = (xmax + xmin) / 2 - 0.2\n",
    "        axs[1, i].text(0.6, -0.25, cl, \n",
    "                       ha='right', va='top', rotation=30)\n",
    "        axs[1, i].set_axis_off()\n",
    "    # rotate_xticklabels(axs[-1, 1], ha='right')\n",
    "    return fig\n"
   ]
  },
  {
   "cell_type": "code",
   "execution_count": 4,
   "id": "727b352d",
   "metadata": {},
   "outputs": [],
   "source": [
    "dirname0 = Path(f\"{ROOT}/_case_res\")\n"
   ]
  },
  {
   "cell_type": "code",
   "execution_count": 8,
   "id": "072baa78",
   "metadata": {},
   "outputs": [
    {
     "name": "stderr",
     "output_type": "stream",
     "text": [
      "<ipython-input-8-69f6ddda0872>:32: SettingWithCopyWarning: \n",
      "A value is trying to be set on a copy of a slice from a DataFrame.\n",
      "Try using .loc[row_indexer,col_indexer] = value instead\n",
      "\n",
      "See the caveats in the documentation: https://pandas.pydata.org/pandas-docs/stable/user_guide/indexing.html#returning-a-view-versus-a-copy\n",
      "  obs2['celltype'] = obs2['celltype'].apply(reg_name)\n"
     ]
    },
    {
     "name": "stdout",
     "output_type": "stream",
     "text": [
      "['Astrocyte', 'Inhibitory neuron', 'Excitatory neuron', 'Microglial cell', 'Oligodendrocyte', 'Cerebellar granule cell', 'OPC', 'Endothelial cell', 'Purkinje cell', 'Brain pericyte']\n",
      "['Excitatory neuron' 'Inhibitory neuron' 'Astrocyte' 'Brain pericyte'\n",
      " 'Microglial cell' 'Neural progenitor cell' 'OPC' 'Oligodendrocyte'\n",
      " 'Leukocyte']\n",
      "figure has been saved into:\n",
      "\t..\\_case_res\\uk-('Lake_2018', 'Tosches_turtle')(06-24 10.31.44)\\rm-\\figs\\barGridTransposed-sigmoid.pdf\n",
      "figure has been saved into:\n",
      "\t..\\_case_res\\uk-('Lake_2018', 'Tosches_turtle')(06-24 10.31.44)\\rm-\\figs\\barGridTransposed-sigmoid.svg\n",
      "figure has been saved into:\n",
      "\t..\\_case_res\\uk-('Lake_2018', 'Tosches_turtle')(06-24 10.31.44)\\rm-\\figs\\barGrid-sigmoid.pdf\n",
      "figure has been saved into:\n",
      "\t..\\_case_res\\uk-('Lake_2018', 'Tosches_turtle')(06-24 10.31.44)\\rm-\\figs\\barGrid-sigmoid.svg\n"
     ]
    },
    {
     "name": "stderr",
     "output_type": "stream",
     "text": [
      "<ipython-input-8-69f6ddda0872>:64: SettingWithCopyWarning: \n",
      "A value is trying to be set on a copy of a slice from a DataFrame.\n",
      "Try using .loc[row_indexer,col_indexer] = value instead\n",
      "\n",
      "See the caveats in the documentation: https://pandas.pydata.org/pandas-docs/stable/user_guide/indexing.html#returning-a-view-versus-a-copy\n",
      "  obs2['predicted'] = obs2['predicted'].apply(reg_name)\n"
     ]
    },
    {
     "name": "stdout",
     "output_type": "stream",
     "text": [
      "figure has been saved into:\n",
      "\t..\\_case_res\\uk-('Lake_2018', 'Tosches_turtle')(06-24 10.31.44)\\rm-\\figs\\new-heatMap-sigmoid.pdf\n",
      "figure has been saved into:\n",
      "\t..\\_case_res\\uk-('Lake_2018', 'Tosches_turtle')(06-24 10.31.44)\\rm-\\figs\\new-heatMap-sigmoid.svg\n",
      "['Astrocyte', 'Microglial cell', 'Oligodendrocyte', 'Cerebellar granule cell', 'OPC', 'Endothelial cell', 'Purkinje cell', 'Brain pericyte']\n",
      "['Excitatory neuron' 'Inhibitory neuron' 'Astrocyte' 'Brain pericyte'\n",
      " 'Microglial cell' 'Neural progenitor cell' 'OPC' 'Oligodendrocyte'\n",
      " 'Leukocyte']\n"
     ]
    },
    {
     "name": "stderr",
     "output_type": "stream",
     "text": [
      "<ipython-input-8-69f6ddda0872>:32: SettingWithCopyWarning: \n",
      "A value is trying to be set on a copy of a slice from a DataFrame.\n",
      "Try using .loc[row_indexer,col_indexer] = value instead\n",
      "\n",
      "See the caveats in the documentation: https://pandas.pydata.org/pandas-docs/stable/user_guide/indexing.html#returning-a-view-versus-a-copy\n",
      "  obs2['celltype'] = obs2['celltype'].apply(reg_name)\n"
     ]
    },
    {
     "name": "stdout",
     "output_type": "stream",
     "text": [
      "figure has been saved into:\n",
      "\t..\\_case_res\\uk-('Lake_2018', 'Tosches_turtle')(06-24 10.31.44)\\rm-['inhibitory neuron', 'excitatory neuron']\\figs\\barGridTransposed-sigmoid.pdf\n",
      "figure has been saved into:\n",
      "\t..\\_case_res\\uk-('Lake_2018', 'Tosches_turtle')(06-24 10.31.44)\\rm-['inhibitory neuron', 'excitatory neuron']\\figs\\barGridTransposed-sigmoid.svg\n",
      "figure has been saved into:\n",
      "\t..\\_case_res\\uk-('Lake_2018', 'Tosches_turtle')(06-24 10.31.44)\\rm-['inhibitory neuron', 'excitatory neuron']\\figs\\barGrid-sigmoid.pdf\n",
      "figure has been saved into:\n",
      "\t..\\_case_res\\uk-('Lake_2018', 'Tosches_turtle')(06-24 10.31.44)\\rm-['inhibitory neuron', 'excitatory neuron']\\figs\\barGrid-sigmoid.svg\n"
     ]
    },
    {
     "name": "stderr",
     "output_type": "stream",
     "text": [
      "<ipython-input-8-69f6ddda0872>:64: SettingWithCopyWarning: \n",
      "A value is trying to be set on a copy of a slice from a DataFrame.\n",
      "Try using .loc[row_indexer,col_indexer] = value instead\n",
      "\n",
      "See the caveats in the documentation: https://pandas.pydata.org/pandas-docs/stable/user_guide/indexing.html#returning-a-view-versus-a-copy\n",
      "  obs2['predicted'] = obs2['predicted'].apply(reg_name)\n"
     ]
    },
    {
     "name": "stdout",
     "output_type": "stream",
     "text": [
      "figure has been saved into:\n",
      "\t..\\_case_res\\uk-('Lake_2018', 'Tosches_turtle')(06-24 10.31.44)\\rm-['inhibitory neuron', 'excitatory neuron']\\figs\\new-heatMap-sigmoid.pdf\n",
      "figure has been saved into:\n",
      "\t..\\_case_res\\uk-('Lake_2018', 'Tosches_turtle')(06-24 10.31.44)\\rm-['inhibitory neuron', 'excitatory neuron']\\figs\\new-heatMap-sigmoid.svg\n"
     ]
    }
   ],
   "source": [
    "dirname = dirname0 / \"uk-('Lake_2018', 'Tasic18')(06-23 14.37.55)\"\n",
    "dirname = dirname0 / \"uk-('Lake_2018', 'Tasic18')(06-24 09.57.28)\"\n",
    "# dirname = dirname0 / \"uk-('Lake_2018', 'Tosches_turtle')(06-28 01.13.23)\" # 结果哦太差了!\n",
    "dirname = dirname0 / \"uk-('Lake_2018', 'Tosches_turtle')(06-24 10.31.44)\"\n",
    "# dirname = dirname0 / \"uk-('Lake_2018', 'Tosches_turtle')(06-23 16.25.15)\"\n",
    "\n",
    "prob_func = 'sigmoid'\n",
    "plt.rcParams.update({'font.family':'Arial'})\n",
    "\n",
    "for sub in os.listdir(dirname):\n",
    "    resdir = dirname / sub\n",
    "    figdir = resdir / 'figs'\n",
    "    df_logits2 = pd.read_csv(resdir / 'df_logits2.csv', index_col=0)\n",
    "    \n",
    "    predictor = came.Predictor.load(resdir / 'predictor.json')\n",
    "\n",
    "    obs = pd.read_csv(resdir / 'obs.csv', index_col=0)\n",
    "\n",
    "    dsn2 = obs['dataset'].iloc[-1]\n",
    "    obs2 = obs[obs['dataset'] == dsn2]\n",
    "\n",
    "#     y_true = obs2['celltype'].values\n",
    "#     ref_classes = df_logits2.columns\n",
    "    \n",
    "    name_map = {\n",
    "        'oligodendrocyte precursor cell': 'OPC',\n",
    "        'vascular and leptomeningeal cell': 'VLMC',\n",
    "        'smooth muscle cell': 'SMC'\n",
    "    }\n",
    "    reg_name = lambda x: name_map.get(x, x.capitalize())\n",
    "\n",
    "    obs2['celltype'] = obs2['celltype'].apply(reg_name)\n",
    "\n",
    "    y_true = obs2['celltype'].values\n",
    "    ref_classes = [reg_name(c) for c in df_logits2.columns]\n",
    "\n",
    "    print(ref_classes)\n",
    "    print(pd.unique(y_true))\n",
    "    \n",
    "    df_probas = pd.DataFrame(\n",
    "        data=came.as_probabilities(df_logits2, mode=prob_func),\n",
    "        # data=predictor.predict_pvalues(df_logits2.values),\n",
    "        columns=ref_classes\n",
    "    )\n",
    "    # bar-grid-plot\n",
    "    fig = grid_bars_display_probas_transposed(\n",
    "    df_probas, y_true, classes=None, \n",
    "    figsize=(6, 6))\n",
    "\n",
    "    fig_types = ['pdf', 'svg']\n",
    "    for ftype in fig_types:\n",
    "        pl._save_with_adjust(fig, figdir / f\"barGridTransposed-{prob_func}.{ftype}\")\n",
    "\n",
    "    n_cols = len(set(y_true))\n",
    "    fig = grid_bars_display_probas(\n",
    "        df_probas, y_true, classes=None, \n",
    "        figsize=(6, 6))\n",
    "    \n",
    "    for ftype in fig_types:\n",
    "        pl._save_with_adjust(fig, figdir / f\"barGrid-{prob_func}.{ftype}\")\n",
    "        \n",
    "\n",
    "    # heatmap\n",
    "    obs2['predicted'] = obs2['predicted'].apply(reg_name)\n",
    "    gs = pl.wrapper_heatmap_scores(\n",
    "            df_probas, obs2, ignore_index=True,\n",
    "            cmap_heat='magma_r' if prob_func == 'softmax' else 'RdBu_r'\n",
    "        )\n",
    "    fig_types = ['pdf', 'svg']\n",
    "    for ftype in fig_types:\n",
    "        pl._save_with_adjust(gs.figure, figdir / f\"new-heatMap-{prob_func}.{ftype}\")\n"
   ]
  },
  {
   "cell_type": "code",
   "execution_count": 3,
   "id": "d0d1402d",
   "metadata": {},
   "outputs": [],
   "source": []
  },
  {
   "cell_type": "code",
   "execution_count": 2,
   "id": "bbbaf376",
   "metadata": {},
   "outputs": [
    {
     "data": {
      "text/plain": [
       "['rm-', \"rm-['inhibitory neuron', 'excitatory neuron']\"]"
      ]
     },
     "execution_count": 2,
     "metadata": {},
     "output_type": "execute_result"
    }
   ],
   "source": [
    "dirname = dirname0 / \"uk-('Lake_2018', 'Tasic18')(06-24 09.57.28)\"\n",
    "# dirname = dirname0 / \"uk-('Lake_2018', 'Tosches_turtle')(06-24 10.31.44)\"\n",
    "# dirname = dirname0 / \"uk-('Lake_2018', 'Tosches_turtle')(06-28 01.13.23)\"\n",
    "\n",
    "resdir = dirname / 'rm-'\n",
    "figdir = resdir / 'figs'\n",
    "os.listdir(dirname)\n"
   ]
  },
  {
   "cell_type": "code",
   "execution_count": 20,
   "id": "0d2c8238",
   "metadata": {},
   "outputs": [
    {
     "name": "stdout",
     "output_type": "stream",
     "text": [
      "Index(['astrocyte', 'inhibitory neuron', 'excitatory neuron',\n",
      "       'microglial cell', 'oligodendrocyte', 'cerebellar granule cell',\n",
      "       'oligodendrocyte precursor cell', 'endothelial cell', 'Purkinje cell',\n",
      "       'brain pericyte'],\n",
      "      dtype='object')\n",
      "['inhibitory neuron' 'excitatory neuron' 'astrocyte'\n",
      " 'vascular and leptomeningeal cell' 'oligodendrocyte' 'endothelial cell'\n",
      " 'macrophage' 'smooth muscle cell' 'brain pericyte']\n"
     ]
    }
   ],
   "source": [
    "df_logits2 = pd.read_csv(resdir / 'df_logits2.csv', index_col=0)\n",
    "    \n",
    "predictor = came.Predictor.load(resdir / 'predictor.json')\n",
    "# predictor.save(resdir / 'predictor-0.json') #backup\n",
    "\n",
    "obs = pd.read_csv(resdir / 'obs.csv', index_col=0)\n",
    "\n",
    "dsn2 = obs['dataset'].iloc[-1]\n",
    "obs2 = obs[obs['dataset'] == dsn2]\n",
    "\n",
    "y_true = obs2['celltype'].values\n",
    "ref_classes = df_logits2.columns\n",
    "\n",
    "print(ref_classes)\n",
    "print(pd.unique(y_true))"
   ]
  },
  {
   "cell_type": "code",
   "execution_count": 21,
   "id": "a60d559f",
   "metadata": {},
   "outputs": [
    {
     "name": "stdout",
     "output_type": "stream",
     "text": [
      "['Astrocyte', 'Inhibitory neuron', 'Excitatory neuron', 'Microglial cell', 'Oligodendrocyte', 'Cerebellar granule cell', 'OPC', 'Endothelial cell', 'Purkinje cell', 'Brain pericyte']\n",
      "['Inhibitory neuron' 'Excitatory neuron' 'Astrocyte' 'VLMC'\n",
      " 'Oligodendrocyte' 'Endothelial cell' 'Macrophage' 'SMC' 'Brain pericyte']\n"
     ]
    },
    {
     "name": "stderr",
     "output_type": "stream",
     "text": [
      "<ipython-input-21-c8a7f146c01a>:8: SettingWithCopyWarning: \n",
      "A value is trying to be set on a copy of a slice from a DataFrame.\n",
      "Try using .loc[row_indexer,col_indexer] = value instead\n",
      "\n",
      "See the caveats in the documentation: https://pandas.pydata.org/pandas-docs/stable/user_guide/indexing.html#returning-a-view-versus-a-copy\n",
      "  obs2['celltype'] = obs2['celltype'].apply(reg_name)\n"
     ]
    }
   ],
   "source": [
    "name_map = {\n",
    "    'oligodendrocyte precursor cell': 'OPC',\n",
    "    'vascular and leptomeningeal cell': 'VLMC',\n",
    "    'smooth muscle cell': 'SMC'\n",
    "}\n",
    "reg_name = lambda x: name_map.get(x, x.capitalize())\n",
    "\n",
    "obs2['celltype'] = obs2['celltype'].apply(reg_name)\n",
    "\n",
    "y_true = obs2['celltype'].values\n",
    "ref_classes = [reg_name(c) for c in df_logits2.columns]\n",
    "\n",
    "print(ref_classes)\n",
    "print(pd.unique(y_true))"
   ]
  },
  {
   "cell_type": "code",
   "execution_count": 22,
   "id": "26020cca",
   "metadata": {},
   "outputs": [],
   "source": [
    "\n",
    "prob_func = 'sigmoid'\n",
    "df_probas = pd.DataFrame(\n",
    "    data=came.as_probabilities(df_logits2, mode=prob_func),\n",
    "    # data=predictor.predict_pvalues(df_logits2.values),\n",
    "    columns=ref_classes\n",
    ")\n"
   ]
  },
  {
   "cell_type": "code",
   "execution_count": 10,
   "id": "dafd9635",
   "metadata": {},
   "outputs": [
    {
     "data": {
      "image/png": "[encoded data removed]",
      "text/plain": [
       "<Figure size 432x432 with 18 Axes>"
      ]
     },
     "metadata": {
      "needs_background": "light"
     },
     "output_type": "display_data"
    }
   ],
   "source": [
    "def grid_bars_display_probas_transposed(\n",
    "        df,\n",
    "        labels,\n",
    "        classes=None,\n",
    "        figsize=(5, 6),\n",
    "        sharey=True,\n",
    "        **kwargs\n",
    "):\n",
    "    \"\"\" bar plots of the distributions \"\"\"\n",
    "    if classes is None:\n",
    "        classes = sorted(set(labels))\n",
    "    classes = [\n",
    "        c for c in df.columns if c in classes] + [\n",
    "        c for c in classes if c not in df.columns]\n",
    "    labels = np.asarray(labels)\n",
    "    n_cl = len(classes)\n",
    "    fig, axs = plt.subplots(\n",
    "        2, len(classes), figsize=figsize,\n",
    "        sharex=True, sharey=sharey,\n",
    "        gridspec_kw={'hspace': 0.0, 'wspace': 0.}\n",
    "    )\n",
    "    for i, cl in enumerate(classes):\n",
    "        df_sub = df[labels == cl]\n",
    "#         y_mid = 0.4  # (df_sub.max() + df_sub.min()) / 2\n",
    "        sns.barplot(data=df_sub, ax=axs[0, i], orient='h', **kwargs)\n",
    "    \n",
    "        xmin, xmax = 0.25, 1.05\n",
    "        axs[0, i].set_xlim(xmin, xmax)\n",
    "        axs[0, i].set_xticks([])\n",
    "        x_mid = (xmax + xmin) / 2 - 0.2\n",
    "        axs[1, i].text(0.6, -0.25, cl, ha='right', va='top', rotation=30)\n",
    "        axs[1, i].set_axis_off()\n",
    "    # rotate_xticklabels(axs[-1, 1], ha='right')\n",
    "    return fig\n",
    "\n",
    "\n",
    "fig = grid_bars_display_probas_transposed(\n",
    "    df_probas, y_true, classes=None, \n",
    "    figsize=(6, 6))"
   ]
  },
  {
   "cell_type": "code",
   "execution_count": 25,
   "id": "cd3380ee",
   "metadata": {},
   "outputs": [
    {
     "name": "stdout",
     "output_type": "stream",
     "text": [
      "figure has been saved into:\n",
      "\t..\\_case_res\\uk-('Lake_2018', 'Tasic18')(06-24 09.57.28)\\rm-\\figs\\barGrid-sigmoid.pdf\n",
      "figure has been saved into:\n",
      "\t..\\_case_res\\uk-('Lake_2018', 'Tasic18')(06-24 09.57.28)\\rm-\\figs\\barGrid-sigmoid.svg\n"
     ]
    }
   ],
   "source": [
    "fig_types = ['pdf', 'svg']\n",
    "for ftype in fig_types:\n",
    "    pl._save_with_adjust(fig, figdir / f\"barGrid-{prob_func}.{ftype}\")"
   ]
  },
  {
   "cell_type": "code",
   "execution_count": 28,
   "id": "9253d5b0",
   "metadata": {},
   "outputs": [
    {
     "name": "stderr",
     "output_type": "stream",
     "text": [
      "<ipython-input-28-91fdfc66c289>:2: SettingWithCopyWarning: \n",
      "A value is trying to be set on a copy of a slice from a DataFrame.\n",
      "Try using .loc[row_indexer,col_indexer] = value instead\n",
      "\n",
      "See the caveats in the documentation: https://pandas.pydata.org/pandas-docs/stable/user_guide/indexing.html#returning-a-view-versus-a-copy\n",
      "  obs2['predicted'] = obs2['predicted'].apply(reg_name)\n"
     ]
    },
    {
     "name": "stdout",
     "output_type": "stream",
     "text": [
      "figure has been saved into:\n",
      "\t..\\_case_res\\uk-('Lake_2018', 'Tasic18')(06-24 09.57.28)\\rm-\\figs\\new-heatMap-sigmoid.pdf\n",
      "figure has been saved into:\n",
      "\t..\\_case_res\\uk-('Lake_2018', 'Tasic18')(06-24 09.57.28)\\rm-\\figs\\new-heatMap-sigmoid.svg\n"
     ]
    }
   ],
   "source": [
    "# obs2['celltype'] = obs2['celltype'].apply(reg_name)\n",
    "obs2['predicted'] = obs2['predicted'].apply(reg_name)\n",
    "\n",
    "gs = pl.wrapper_heatmap_scores(\n",
    "        df_probas, obs2, ignore_index=True,\n",
    "        cmap_heat='magma_r' if prob_func == 'softmax' else 'RdBu_r'\n",
    "    )\n",
    "fig_types = ['pdf', 'svg']\n",
    "for ftype in fig_types:\n",
    "    pl._save_with_adjust(gs.figure, figdir / f\"new-heatMap-{prob_func}.{ftype}\")\n"
   ]
  },
  {
   "cell_type": "code",
   "execution_count": null,
   "id": "47a098e6",
   "metadata": {},
   "outputs": [],
   "source": [
    "# Violin-plot\n",
    "fig = grid_display_probas(\n",
    "    df_probas, y_true, figsize=(6, 6))\n"
   ]
  },
  {
   "cell_type": "code",
   "execution_count": null,
   "id": "7f9a9b0c",
   "metadata": {},
   "outputs": [],
   "source": []
  },
  {
   "cell_type": "code",
   "execution_count": null,
   "id": "30a8f850",
   "metadata": {},
   "outputs": [],
   "source": []
  }
 ],
 "metadata": {
  "kernelspec": {
   "display_name": "Python 3",
   "language": "python",
   "name": "python3"
  },
  "language_info": {
   "codemirror_mode": {
    "name": "ipython",
    "version": 3
   },
   "file_extension": ".py",
   "mimetype": "text/x-python",
   "name": "python",
   "nbconvert_exporter": "python",
   "pygments_lexer": "ipython3",
   "version": "3.8.8"
  }
 },
 "nbformat": 4,
 "nbformat_minor": 5
}
